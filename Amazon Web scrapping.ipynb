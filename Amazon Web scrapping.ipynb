{
 "cells": [
  {
   "cell_type": "code",
   "execution_count": null,
   "id": "19228f23",
   "metadata": {},
   "outputs": [],
   "source": [
    "# import libraries \n",
    "\n",
    "from bs4 import BeautifulSoup\n",
    "import requests\n",
    "import pandas as pd\n"
   ]
  },
  {
   "cell_type": "code",
   "execution_count": null,
   "id": "be517bea",
   "metadata": {},
   "outputs": [],
   "source": [
    "# Connect to Website and pull in data\n",
    "\n",
    "URL = 'https://www.amazon.com/s?k=playstation+5&sprefix=pla%2Caps%2C453&ref=nb_sb_ss_ts-doa-p_1_3'\n"
   ]
  },
  {
   "cell_type": "code",
   "execution_count": null,
   "id": "681834ce",
   "metadata": {},
   "outputs": [],
   "source": [
    "# Headers for request\n",
    "HEADERS = ({\"User-Agent\": \"Mozilla/5.0 (Macintosh; Intel Mac OS X 10_15_7) AppleWebKit/537.36 (KHTML, like Gecko) Chrome/115.0.0.0 Safari/537.36\"}) #add your user agent "
   ]
  },
  {
   "cell_type": "code",
   "execution_count": null,
   "id": "5ad4c50a",
   "metadata": {},
   "outputs": [],
   "source": [
    "# HTTP Request\n",
    "webpage = requests.get(URL, headers=HEADERS)"
   ]
  },
  {
   "cell_type": "code",
   "execution_count": null,
   "id": "9c1e9e9f",
   "metadata": {},
   "outputs": [],
   "source": [
    "type(webpage.content)"
   ]
  },
  {
   "cell_type": "code",
   "execution_count": null,
   "id": "749b5673",
   "metadata": {},
   "outputs": [],
   "source": [
    "# Soup Object containiang all data\n",
    "soup = BeautifulSoup(webpage.content, \"html.parser\")"
   ]
  },
  {
   "cell_type": "code",
   "execution_count": null,
   "id": "79f4fac1",
   "metadata": {},
   "outputs": [],
   "source": [
    "# Fetch links as List of Tag Objects\n",
    "links = soup.find_all(\"a\", attrs={\"a-link-normal s-underline-text s-underline-link-text s-link-style a-text-normal\"})"
   ]
  },
  {
   "cell_type": "code",
   "execution_count": null,
   "id": "4a23d450",
   "metadata": {},
   "outputs": [],
   "source": [
    "link = links[0].get('href')"
   ]
  },
  {
   "cell_type": "code",
   "execution_count": null,
   "id": "ff30be83",
   "metadata": {},
   "outputs": [],
   "source": [
    "product_list = \"https://amazon.com\" + link\n"
   ]
  },
  {
   "cell_type": "code",
   "execution_count": null,
   "id": "68756460",
   "metadata": {},
   "outputs": [],
   "source": [
    "new_webpage = requests.get(product_list, headers=HEADERS)\n"
   ]
  },
  {
   "cell_type": "code",
   "execution_count": null,
   "id": "4bab8b58",
   "metadata": {},
   "outputs": [],
   "source": [
    "new_webpage"
   ]
  },
  {
   "cell_type": "code",
   "execution_count": null,
   "id": "ec940805",
   "metadata": {},
   "outputs": [],
   "source": [
    "# Soup Object containiang all data\n",
    "new_soup = BeautifulSoup(new_webpage.content, \"html.parser\")"
   ]
  },
  {
   "cell_type": "code",
   "execution_count": null,
   "id": "0492e530",
   "metadata": {},
   "outputs": [],
   "source": [
    "new_soup.find(\"span\", attrs={\"id\":'productTitle'}).text.strip()\n"
   ]
  },
  {
   "cell_type": "code",
   "execution_count": null,
   "id": "60222423",
   "metadata": {},
   "outputs": [],
   "source": [
    "new_soup.find(\"span\", attrs={\"class\":'a-price a-text-price a-size-medium'}).find(\"span\", attrs={\"class\": \"a-offscreen\"}).text\n"
   ]
  },
  {
   "cell_type": "code",
   "execution_count": null,
   "id": "b92a95c6",
   "metadata": {},
   "outputs": [],
   "source": [
    "new_soup.find(\"span\", attrs={\"class\":'a-icon-alt'}).text\n"
   ]
  },
  {
   "cell_type": "code",
   "execution_count": null,
   "id": "fc1f3089",
   "metadata": {},
   "outputs": [],
   "source": []
  }
 ],
 "metadata": {
  "kernelspec": {
   "display_name": "Python 3 (ipykernel)",
   "language": "python",
   "name": "python3"
  },
  "language_info": {
   "codemirror_mode": {
    "name": "ipython",
    "version": 3
   },
   "file_extension": ".py",
   "mimetype": "text/x-python",
   "name": "python",
   "nbconvert_exporter": "python",
   "pygments_lexer": "ipython3",
   "version": "3.9.12"
  }
 },
 "nbformat": 4,
 "nbformat_minor": 5
}
